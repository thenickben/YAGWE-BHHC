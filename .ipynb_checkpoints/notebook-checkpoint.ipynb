{
 "cells": [
  {
   "cell_type": "markdown",
   "metadata": {
    "colab_type": "text",
    "id": "_WspyfxmRD9Y"
   },
   "source": [
    "# GridWorld\n",
    "\n",
    "#### Environment implementing a highly-customizable GridWorld\n",
    "\n",
    "Author: PyTrain team"
   ]
  },
  {
   "cell_type": "code",
   "execution_count": 1,
   "metadata": {
    "colab": {},
    "colab_type": "code",
    "id": "zwMfGhGeRCu3"
   },
   "outputs": [],
   "source": [
    "from gridworld import GridWorld"
   ]
  },
  {
   "cell_type": "markdown",
   "metadata": {
    "colab_type": "text",
    "id": "J2AJxLQ6T83v"
   },
   "source": [
    "## Environment examples"
   ]
  },
  {
   "cell_type": "code",
   "execution_count": 2,
   "metadata": {
    "colab": {
     "base_uri": "https://localhost:8080/",
     "height": 377
    },
    "colab_type": "code",
    "id": "qiC72MxAXl-F",
    "outputId": "e5c446d6-97c0-4ca1-ba54-97cf2c08e30f"
   },
   "outputs": [
    {
     "data": {
      "image/png": "[encoded data removed]",
      "text/plain": [
       "<Figure size 432x432 with 1 Axes>"
      ]
     },
     "metadata": {},
     "output_type": "display_data"
    }
   ],
   "source": [
    "#example 1\n",
    "height = 6\n",
    "width = 6\n",
    "start = [5,0]\n",
    "goals = ([0,5])\n",
    "walls = ([2,1],[2,2],[2,3],\n",
    "         [3,1],[3,2],[3,3])\n",
    "cliffs = ([1,1],[1,2],[1,3])\n",
    "env = GridWorld(height, width, False, False, start, goals, walls, cliffs)\n",
    "env.render()"
   ]
  },
  {
   "cell_type": "code",
   "execution_count": 3,
   "metadata": {
    "colab": {
     "base_uri": "https://localhost:8080/",
     "height": 377
    },
    "colab_type": "code",
    "id": "DgeuKGZT5i_r",
    "outputId": "da734979-9d0e-48c1-9fba-85fdcfc78447"
   },
   "outputs": [
    {
     "data": {
      "image/png": "[encoded data removed]",
      "text/plain": [
       "<Figure size 432x432 with 1 Axes>"
      ]
     },
     "metadata": {},
     "output_type": "display_data"
    }
   ],
   "source": [
    "#example 2\n",
    "height = 6\n",
    "width = 6\n",
    "env = GridWorld(height, width, True, True)\n",
    "env.render()"
   ]
  },
  {
   "cell_type": "code",
   "execution_count": 4,
   "metadata": {
    "colab": {
     "base_uri": "https://localhost:8080/",
     "height": 213
    },
    "colab_type": "code",
    "id": "ngFIB9H68iU6",
    "outputId": "b43f343b-ee45-4ac8-81bd-2d37995434fd"
   },
   "outputs": [
    {
     "data": {
      "image/png": "[encoded data removed]",
      "text/plain": [
       "<Figure size 216x216 with 1 Axes>"
      ]
     },
     "metadata": {},
     "output_type": "display_data"
    }
   ],
   "source": [
    "#example 2\n",
    "height = 3\n",
    "width = 3\n",
    "start = [0,0]\n",
    "goals = ([2,2])\n",
    "walls = None\n",
    "cliffs = None\n",
    "env = GridWorld(height, width, False, False, start, goals, walls, cliffs)\n",
    "env.render()"
   ]
  },
  {
   "cell_type": "code",
   "execution_count": 5,
   "metadata": {
    "colab": {
     "base_uri": "https://localhost:8080/",
     "height": 231
    },
    "colab_type": "code",
    "id": "__LI40SwAa0R",
    "outputId": "9b071e4c-1263-4870-c293-e93fb6b40e69"
   },
   "outputs": [
    {
     "name": "stdout",
     "output_type": "stream",
     "text": [
      "Action: 1 , New state: 7 , Done: False , Reward: -1.0\n"
     ]
    },
    {
     "data": {
      "image/png": "[encoded data removed]",
      "text/plain": [
       "<Figure size 216x216 with 1 Axes>"
      ]
     },
     "metadata": {},
     "output_type": "display_data"
    }
   ],
   "source": [
    "#Example 1-step random agent\n",
    "env.reset()\n",
    "action = 1 #env.action_space_sample()\n",
    "state, reward, done = env.step(action)\n",
    "print(\"Action:\",action, \", New state:\", env.get_obs(), \", Done:\",done, \", Reward:\", reward)\n",
    "env.render()"
   ]
  },
  {
   "cell_type": "code",
   "execution_count": 16,
   "metadata": {},
   "outputs": [
    {
     "data": {
      "image/png": "[encoded data removed]",
      "text/plain": [
       "<Figure size 216x432 with 1 Axes>"
      ]
     },
     "metadata": {},
     "output_type": "display_data"
    }
   ],
   "source": [
    "#example 2\n",
    "height = 3\n",
    "width = 6\n",
    "start = [1,0]\n",
    "goals = ([2,2])\n",
    "walls = None\n",
    "cliffs = None\n",
    "env = GridWorld(height, width, False, False, start, goals, walls, cliffs)\n",
    "env.render()"
   ]
  },
  {
   "cell_type": "code",
   "execution_count": null,
   "metadata": {},
   "outputs": [],
   "source": []
  }
 ],
 "metadata": {
  "accelerator": "GPU",
  "colab": {
   "collapsed_sections": [],
   "name": "gridworld.ipynb",
   "provenance": [],
   "version": "0.3.2"
  },
  "kernelspec": {
   "display_name": "Python 3",
   "language": "python",
   "name": "python3"
  },
  "language_info": {
   "codemirror_mode": {
    "name": "ipython",
    "version": 3
   },
   "file_extension": ".py",
   "mimetype": "text/x-python",
   "name": "python",
   "nbconvert_exporter": "python",
   "pygments_lexer": "ipython3",
   "version": "3.6.3"
  }
 },
 "nbformat": 4,
 "nbformat_minor": 1
}
